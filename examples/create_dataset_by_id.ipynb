{
 "cells": [
  {
   "cell_type": "markdown",
   "id": "2e4baf5e",
   "metadata": {},
   "source": [
    "# Partial Experiment Loader\n",
    "\n",
    "This notebooks demos how to create a dataloader for a subset of the Experiment data. This subset is defined either by a list of `frame id intervals`."
   ]
  },
  {
   "cell_type": "code",
   "execution_count": 7,
   "id": "f0c20456",
   "metadata": {},
   "outputs": [],
   "source": [
    "import json\n",
    "from tqdm import tqdm\n",
    "import numpy as np\n",
    "\n",
    "from experanto.intervals import (\n",
    "    TimeInterval,\n",
    "    find_complement_of_interval_array,\n",
    "    uniquefy_interval_array,\n",
    ")"
   ]
  },
  {
   "cell_type": "code",
   "execution_count": 8,
   "id": "2aafeb9f",
   "metadata": {},
   "outputs": [],
   "source": [
    "# Data paths\n",
    "\n",
    "base = '/data/test_upsampling_without_hamming_30.0Hz/'\n",
    "\n",
    "paths = [\n",
    "            # 'dynamic26872-17-20-Video-021a75e56847d574b9acbcc06c675055_30hz/screen/combined_meta.json',\n",
    "            # 'dynamic27204-5-13-Video-021a75e56847d574b9acbcc06c675055_30hz/screen/combined_meta.json',\n",
    "            'dynamic29515-10-12-Video-021a75e56847d574b9acbcc06c675055_30hz/screen/combined_meta.json',\n",
    "            # 'dynamic29623-4-9-Video-021a75e56847d574b9acbcc06c675055_30hz/screen/combined_meta.json',\n",
    "            # 'dynamic29647-19-8-Video-021a75e56847d574b9acbcc06c675055_30hz/screen/combined_meta.json',\n",
    "            # 'dynamic29712-5-9-Video-021a75e56847d574b9acbcc06c675055_30hz/screen/combined_meta.json',\n",
    "            # 'dynamic29755-2-8-Video-021a75e56847d574b9acbcc06c675055_30hz/screen/combined_meta.json',\n",
    "            ]"
   ]
  },
  {
   "cell_type": "code",
   "execution_count": 9,
   "id": "61e8282c",
   "metadata": {},
   "outputs": [
    {
     "data": {
      "text/plain": [
       "{'condition_hash': '9NUudHK3AYroIBWxG5ny',\n",
       " 'first_frame_idx': 1224,\n",
       " 'image_size': [36, 64],\n",
       " 'modality': 'video',\n",
       " 'num_frames': 300,\n",
       " 'stim_type': 'stimulus.Clip',\n",
       " 'tier': 'final_test_main',\n",
       " 'trial_idx': 4}"
      ]
     },
     "execution_count": 9,
     "metadata": {},
     "output_type": "execute_result"
    }
   ],
   "source": [
    "meta_path = base + paths[0]\n",
    "with open(meta_path, 'rb') as f:\n",
    "    meta = json.load(f)\n",
    "meta['00004']"
   ]
  },
  {
   "cell_type": "code",
   "execution_count": 10,
   "id": "ca5867ea",
   "metadata": {},
   "outputs": [],
   "source": [
    "valid_keys = ['00002','00004','00007','00008','00009','00011','00012','00013','00014','00015','00017','00019','00020','00022','00023','00024','00025','00027','00028','00029','00032','00033','00034','00036','00037',]"
   ]
  },
  {
   "cell_type": "code",
   "execution_count": 18,
   "id": "883dbd81",
   "metadata": {},
   "outputs": [],
   "source": [
    "def id2interval(id_list, dataset, complement=False):\n",
    "    '''Convert a list of IDs to intervals.\n",
    "    Args:\n",
    "        id_list (list): The list of IDs.\n",
    "        complement (bool): If True, return the complement of the intervals.\n",
    "    Returns:\n",
    "        list: A list of intervals.'''\n",
    "    \n",
    "    if not id_list:\n",
    "        return []\n",
    "    \n",
    "    id_list = sorted(id_list)\n",
    "\n",
    "    if complement:\n",
    "        all_ids = set(meta.keys())\n",
    "        used_ids = set(id_list)\n",
    "        complement_ids = sorted(all_ids - used_ids)\n",
    "        return id2interval(complement_ids, )\n",
    "    \n",
    "    # Should pass dataset\n",
    "    timestamps = np.load(f\"/data/test_upsampling_without_hamming_30.0Hz/{dataset}/screen/timestamps.npy\")\n",
    "    meta_path = f\"/data/test_upsampling_without_hamming_30.0Hz/{dataset}/screen/combined_meta.json\"\n",
    "    with open(meta_path, 'rb') as f:\n",
    "        meta = json.load(f)\n",
    "    \n",
    "    intervals = []\n",
    "    \n",
    "    for i in range(1, len(id_list)):\n",
    "        start = meta[id_list[i]]['first_frame_idx']\n",
    "        end = meta[id_list[i]]['first_frame_idx'] + meta[id_list[i]]['num_frames']\n",
    "        intervals.append(TimeInterval(timestamps[start], timestamps[end]))  # The start is inclusive and the end is exclusive\n",
    "    \n",
    "    valid_intevals = uniquefy_interval_array(intervals)\n",
    "    \n",
    "    return valid_intevals"
   ]
  },
  {
   "cell_type": "code",
   "execution_count": null,
   "id": "0d187e5a",
   "metadata": {},
   "outputs": [
    {
     "data": {
      "text/plain": [
       "[TimeInterval(start=1682534622.5913115, end=1682534632.6021829),\n",
       " TimeInterval(start=1682534652.623929, end=1682534683.1570945),\n",
       " TimeInterval(start=1682534693.167968, end=1682534742.721799),\n",
       " TimeInterval(start=1682534752.732674, end=1682534762.7435498),\n",
       " TimeInterval(start=1682534772.7544258, end=1682534792.7761786),\n",
       " TimeInterval(start=1682534802.787054, end=1682534839.326755),\n",
       " TimeInterval(start=1682534849.3376324, end=1682534878.3691757),\n",
       " TimeInterval(start=1682534898.3909318, end=1682534928.92411),\n",
       " TimeInterval(start=1682534938.9349887, end=1682534959.957831)]"
      ]
     },
     "execution_count": 19,
     "metadata": {},
     "output_type": "execute_result"
    }
   ],
   "source": [
    "id_list = valid_keys\n",
    "dataset = \"dynamic29515-10-12-Video-021a75e56847d574b9acbcc06c675055_30hz\"\n",
    "id2interval(id_list=id_list, dataset=dataset)"
   ]
  },
  {
   "cell_type": "markdown",
   "id": "9e49fa0b",
   "metadata": {},
   "source": [
    "### ToDo: Use the time intervals to dataloader function to complete the demo"
   ]
  },
  {
   "cell_type": "code",
   "execution_count": null,
   "id": "30343a74-fc8e-4ad5-bead-12e2e5465932",
   "metadata": {},
   "outputs": [],
   "source": []
  }
 ],
 "metadata": {
  "kernelspec": {
   "display_name": "Python 3 (ipykernel)",
   "language": "python",
   "name": "python3"
  },
  "language_info": {
   "codemirror_mode": {
    "name": "ipython",
    "version": 3
   },
   "file_extension": ".py",
   "mimetype": "text/x-python",
   "name": "python",
   "nbconvert_exporter": "python",
   "pygments_lexer": "ipython3",
   "version": "3.12.3"
  }
 },
 "nbformat": 4,
 "nbformat_minor": 5
}
